{
 "cells": [
  {
   "cell_type": "markdown",
   "metadata": {},
   "source": [
    "### Practice Questions on Linked List"
   ]
  },
  {
   "cell_type": "markdown",
   "metadata": {},
   "source": [
    "### Q1"
   ]
  },
  {
   "cell_type": "code",
   "execution_count": 6,
   "metadata": {},
   "outputs": [],
   "source": [
    "# what will be the output when head node of following linked list is passed as input? 1->2->3->4->5\n",
    "\n",
    "def fun(head):\n",
    "    if head==None:\n",
    "        return\n",
    "    if head.next.next!=None:\n",
    "        print(head.data,\" \",end='')\n",
    "        fun(head.next)\n",
    "    print(head.data,\" \",end='')\n",
    "\n",
    "\n",
    "# output : 1234321\n"
   ]
  },
  {
   "cell_type": "markdown",
   "metadata": {},
   "source": [
    "### Q2"
   ]
  },
  {
   "cell_type": "code",
   "execution_count": 7,
   "metadata": {},
   "outputs": [],
   "source": [
    "# program to replace a item in linked list that is maximum with the give value.\n",
    "from Linked_list import Linked_list\n",
    "\n",
    "def replace_max(self,value):\n",
    "    temp = self.head\n",
    "    max = temp\n",
    "    \n",
    "    while temp!=None:\n",
    "        if temp.data>max.data:\n",
    "            max = temp\n",
    "        temp=temp.next\n",
    "    max.data = value"
   ]
  }
 ],
 "metadata": {
  "kernelspec": {
   "display_name": "Python 3",
   "language": "python",
   "name": "python3"
  },
  "language_info": {
   "codemirror_mode": {
    "name": "ipython",
    "version": 3
   },
   "file_extension": ".py",
   "mimetype": "text/x-python",
   "name": "python",
   "nbconvert_exporter": "python",
   "pygments_lexer": "ipython3",
   "version": "3.11.2"
  },
  "orig_nbformat": 4
 },
 "nbformat": 4,
 "nbformat_minor": 2
}
