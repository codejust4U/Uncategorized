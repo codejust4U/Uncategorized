{
 "cells": [
  {
   "cell_type": "markdown",
   "metadata": {},
   "source": [
    "### Stack"
   ]
  },
  {
   "cell_type": "code",
   "execution_count": 1,
   "metadata": {},
   "outputs": [],
   "source": [
    "class Node:\n",
    "    def __init__(self,value):\n",
    "        self.data = value\n",
    "        self.next = None"
   ]
  },
  {
   "cell_type": "code",
   "execution_count": 2,
   "metadata": {},
   "outputs": [],
   "source": [
    "class stack:\n",
    "    def __init__(self):\n",
    "        self.top = None\n",
    "\n",
    "    def isempty(self):\n",
    "        return self.top==None\n",
    "    \n",
    "    def push(self,value):\n",
    "        new_node = Node(value)\n",
    "        new_node.next = self.top\n",
    "        self.top =new_node\n",
    "\n",
    "    def peek(self):\n",
    "        if (self.isempty()):\n",
    "            return 'Stack empty'\n",
    "        else:\n",
    "            return self.top.data\n",
    "        \n",
    "    def pop(self):\n",
    "        if (self.top is None):\n",
    "            return 'stack empty'\n",
    "        else:\n",
    "            data = self.top.data\n",
    "            self.top = self.top.next\n",
    "            return data\n",
    "\n",
    "    def traverse(self):\n",
    "        temp =  self.top\n",
    "        while (temp != None ):\n",
    "            print(temp.data,end=' ')\n",
    "            temp = temp.next\n",
    "\n",
    "    def size(self):\n",
    "        temp = self.top\n",
    "        count = 0\n",
    "        while temp != None:\n",
    "            count += 1\n",
    "            temp = temp.next\n",
    "        return count"
   ]
  },
  {
   "cell_type": "code",
   "execution_count": 3,
   "metadata": {},
   "outputs": [],
   "source": [
    "s = stack()"
   ]
  },
  {
   "cell_type": "code",
   "execution_count": 4,
   "metadata": {},
   "outputs": [
    {
     "data": {
      "text/plain": [
       "True"
      ]
     },
     "execution_count": 4,
     "metadata": {},
     "output_type": "execute_result"
    }
   ],
   "source": [
    "s.isempty()\n"
   ]
  },
  {
   "cell_type": "code",
   "execution_count": 5,
   "metadata": {},
   "outputs": [],
   "source": [
    "s.push(2)\n",
    "s.push(3)\n",
    "s.push(4)\n",
    "s.push(5)\n"
   ]
  },
  {
   "cell_type": "code",
   "execution_count": 6,
   "metadata": {},
   "outputs": [
    {
     "name": "stdout",
     "output_type": "stream",
     "text": [
      "5 4 3 2 "
     ]
    }
   ],
   "source": [
    "s.traverse()"
   ]
  },
  {
   "cell_type": "code",
   "execution_count": 7,
   "metadata": {},
   "outputs": [
    {
     "data": {
      "text/plain": [
       "5"
      ]
     },
     "execution_count": 7,
     "metadata": {},
     "output_type": "execute_result"
    }
   ],
   "source": [
    "s.peek()"
   ]
  },
  {
   "cell_type": "markdown",
   "metadata": {},
   "source": [
    "### Reversing the string using stack"
   ]
  },
  {
   "cell_type": "code",
   "execution_count": 8,
   "metadata": {},
   "outputs": [
    {
     "name": "stdout",
     "output_type": "stream",
     "text": [
      "some error occured\n"
     ]
    }
   ],
   "source": [
    "str = 'Hello'\n",
    "try:\n",
    "     \n",
    "    for i in str:\n",
    "        s.push(i)\n",
    "        while(s.isempty()==False):\n",
    "            s+= s.pop\n",
    "except:\n",
    "    print(\"some error occured\")"
   ]
  },
  {
   "cell_type": "code",
   "execution_count": 9,
   "metadata": {},
   "outputs": [],
   "source": [
    "def reverse_str(text):\n",
    "    s=stack()\n",
    "    for i in text:\n",
    "        s.push(i)\n",
    "    res = \"\"\n",
    "    while(not s.isempty()):\n",
    "        res=res+s.pop()\n",
    "    print(res)"
   ]
  },
  {
   "cell_type": "code",
   "execution_count": 10,
   "metadata": {},
   "outputs": [
    {
     "name": "stdout",
     "output_type": "stream",
     "text": [
      "olleH\n"
     ]
    }
   ],
   "source": [
    "reverse_str(\"Hello\")"
   ]
  },
  {
   "cell_type": "markdown",
   "metadata": {},
   "source": [
    "### Text Editor"
   ]
  },
  {
   "cell_type": "code",
   "execution_count": 11,
   "metadata": {},
   "outputs": [],
   "source": [
    "def text_editor(text, pattern):\n",
    "    u = stack()\n",
    "    r = stack()\n",
    "    for i in text:\n",
    "        u.push(i)\n",
    "    for i in pattern:\n",
    "        if i == 'u':\n",
    "            data = u.pop()\n",
    "            r.push(data)\n",
    "\n",
    "        else:\n",
    "            data = r.pop()\n",
    "            u.push(data)\n",
    "    res = \"\"\n",
    "    while (not u.isempty()):\n",
    "        res = u.pop()+res\n",
    "    print(res)\n",
    "\n"
   ]
  },
  {
   "cell_type": "code",
   "execution_count": 12,
   "metadata": {},
   "outputs": [
    {
     "name": "stdout",
     "output_type": "stream",
     "text": [
      "Hell\n"
     ]
    }
   ],
   "source": [
    "text_editor(\"Hello\",'uuurr')"
   ]
  },
  {
   "cell_type": "markdown",
   "metadata": {},
   "source": [
    "### Celebrity Problem"
   ]
  },
  {
   "cell_type": "code",
   "execution_count": 13,
   "metadata": {},
   "outputs": [],
   "source": [
    "L=[\n",
    "    [0,0,1,1],\n",
    "    [0,0,1,0],\n",
    "    [0,1,0,0],\n",
    "    [0,0,1,0]\n",
    "\n",
    "]"
   ]
  },
  {
   "cell_type": "code",
   "execution_count": 14,
   "metadata": {},
   "outputs": [],
   "source": [
    "def find_celeb(L):\n",
    "    s = stack()\n",
    "    for i in range(len(L)):\n",
    "        s.push(i)\n",
    "\n",
    "    while s.size()>=2:\n",
    "        i=s.pop()\n",
    "        j=s.pop()\n",
    "        if L[i][j]==0:\n",
    "            # j isnot celebrity\n",
    "            s.push(i)\n",
    "        else:\n",
    "            s.push(j)\n",
    "    celeb = s.pop()\n",
    "    for i in range(len(L)):\n",
    "        if i!= celeb:\n",
    "            if L[i][celeb]==0 or L[celeb][i] == 1:\n",
    "                print(\"No one is celebrity\")\n",
    "                return\n",
    "            \n",
    "\n",
    "    print('The celebrity is ',celeb)\n"
   ]
  },
  {
   "cell_type": "code",
   "execution_count": 15,
   "metadata": {},
   "outputs": [
    {
     "name": "stdout",
     "output_type": "stream",
     "text": [
      "No one is celebrity\n"
     ]
    }
   ],
   "source": [
    "find_celeb(L)"
   ]
  },
  {
   "cell_type": "markdown",
   "metadata": {},
   "source": [
    "### Balenced Parenthesis Problem"
   ]
  },
  {
   "cell_type": "code",
   "execution_count": 19,
   "metadata": {},
   "outputs": [
    {
     "name": "stdout",
     "output_type": "stream",
     "text": [
      "Balanced\n"
     ]
    }
   ],
   "source": [
    "def are_brackets_balanced(s):\n",
    "\tstack = []\n",
    "\tfor ch in s:\n",
    "\t\tif ch in ('(', '{', '['):\n",
    "\t\t\tstack.append(ch)\n",
    "\t\telse:\n",
    "\t\t\tif stack and ((stack[-1] == '(' and ch == ')') or\n",
    "\t\t\t\t\t\t(stack[-1] == '{' and ch == '}') or\n",
    "\t\t\t\t\t\t(stack[-1] == '[' and ch == ']')):\n",
    "\t\t\t\tstack.pop()\n",
    "\t\t\telse:\n",
    "\t\t\t\treturn False\n",
    "\treturn not stack\n",
    "\n",
    "expr = \"[{{{()}()}()}[]{}]\"\n",
    "\n",
    "# Function call\n",
    "if are_brackets_balanced(expr):\n",
    "\tprint(\"Balanced\")\n",
    "else:\n",
    "\tprint(\"Not Balanced\")\n"
   ]
  }
 ],
 "metadata": {
  "kernelspec": {
   "display_name": "Python 3",
   "language": "python",
   "name": "python3"
  },
  "language_info": {
   "codemirror_mode": {
    "name": "ipython",
    "version": 3
   },
   "file_extension": ".py",
   "mimetype": "text/x-python",
   "name": "python",
   "nbconvert_exporter": "python",
   "pygments_lexer": "ipython3",
   "version": "3.11.2"
  },
  "orig_nbformat": 4
 },
 "nbformat": 4,
 "nbformat_minor": 2
}
