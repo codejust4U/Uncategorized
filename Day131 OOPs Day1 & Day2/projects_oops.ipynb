{
 "cells": [
  {
   "cell_type": "code",
   "execution_count": null,
   "metadata": {},
   "outputs": [],
   "source": [
    "import requests\n",
    "\n",
    "class IRCTC:\n",
    "    def __init__(self):\n",
    "        user_input=input(\"\"\"\n",
    "                How would youm like to proceed?\n",
    "              1. Enter 1 to check live train status\n",
    "              2. Enter 2 to check PNR\n",
    "              3. Enter 3 to check train schedule\n",
    "\n",
    "\n",
    "              \"\"\")\n",
    "        \n",
    "        if user_input == \"1\":\n",
    "            print(\"Print train live status\")\n",
    "        elif user_input == \"2\":\n",
    "            print(\"PNR\")\n",
    "\n",
    "        else:\n",
    "            self.train_schedule()\n",
    "\n",
    "\n",
    "    def train_schedule(self):\n",
    "        train_no = input(\"Input train number : \")\n",
    "        self.fetch_data(train_no)\n",
    "\n",
    "    def fetch_data(self,train_no):\n",
    "        requests.get(\"enter the url {}\".format(train_no))\n",
    "\n",
    "        data = data.json()\n",
    "\n",
    "        print(data['Route'])\n",
    "\n",
    "        for i in data['Route']:\n",
    "            print(i['StationName'],\"|\",i[\"ArrivalTime\"],\"|\",i[\"DepartureTime\"],\"|\",i[\"Distance\"],\"kms\")\n",
    "\n",
    "\n",
    "obj = IRCTC()\n"
   ]
  }
 ],
 "metadata": {
  "kernelspec": {
   "display_name": "Python 3",
   "language": "python",
   "name": "python3"
  },
  "language_info": {
   "codemirror_mode": {
    "name": "ipython",
    "version": 3
   },
   "file_extension": ".py",
   "mimetype": "text/x-python",
   "name": "python",
   "nbconvert_exporter": "python",
   "pygments_lexer": "ipython3",
   "version": "3.11.2"
  },
  "orig_nbformat": 4
 },
 "nbformat": 4,
 "nbformat_minor": 2
}
